{
 "cells": [
  {
   "cell_type": "markdown",
   "id": "e387727b-9f4d-4ffe-9e26-832954dbe47b",
   "metadata": {},
   "source": [
    "# Diabetes Data"
   ]
  },
  {
   "cell_type": "markdown",
   "id": "2cc9abdb-0041-4e3d-bd2c-06e150a3cc88",
   "metadata": {},
   "source": [
    "## The Problem"
   ]
  },
  {
   "cell_type": "markdown",
   "id": "d5dd4871-421c-48be-a88e-e91549553def",
   "metadata": {},
   "source": [
    "*Diabetes is a chronic health condition affecting millions worldwide, with rates continuing to rise due to lifestyle and dietary patterns. Early diagnosis and treatment are crucial, but prevention remains the most effective long-term strategy. This project seeks to predict diabetes onset by identifying key health and behavioral indicators using survey data from the Behavioral Risk Factor Surveillance System (BRFSS). By analyzing factors such as blood pressure, body mass index (BMI), physical health, mental health, and general health status, it aims to build predictive models that can differentiate individuals at risk of developing diabetes from those who are not.*"
   ]
  },
  {
   "cell_type": "markdown",
   "id": "05f9670d-c8c1-4b0a-ab47-aa22949cd159",
   "metadata": {},
   "source": [
    "## Source"
   ]
  },
  {
   "cell_type": "markdown",
   "id": "36d54ba8-13c3-46ce-912b-4276e6ae2a54",
   "metadata": {},
   "source": [
    "*Source: BRFSS - Behavioral Risk Factor Surveillance System\n",
    "\n",
    "Samples: 253,680 rows, 22 features\n",
    "\n",
    "Bias Note: Data is self-reported, possibly leading to inaccurate or biased responses.\n",
    "\n",
    "Work Cited:\n",
    "\n",
    "The BRFSS Data User Guide June 2013, Centers for Disease Control and Prevention, www.cdc.gov/brfss/data_documentation/pdf/userguidejune2013.pdf. Accessed 2 Apr. 2025.\n",
    "Teboul, Alex. “Diabetes Health Indicators Dataset.” Kaggle, 8 Nov. 2021, www.kaggle.com/datasets/alexteboul/diabetes-health-indicators-dataset.*\n"
   ]
  },
  {
   "cell_type": "markdown",
   "id": "8ef26f4c-6db7-48d8-b72d-48daf4c3600a",
   "metadata": {},
   "source": [
    "## Guiding Quesiton \n",
    "*Can we predict whether an individual is at risk of developing diabetes (either prediabetes or diabetes) based on their health and behavioral indicators?*"
   ]
  },
  {
   "cell_type": "markdown",
   "id": "35791bd3-996f-4a2c-8dc4-882602dcff5b",
   "metadata": {},
   "source": [
    "## Data Preperation"
   ]
  },
  {
   "cell_type": "code",
   "execution_count": 1,
   "id": "7c1c3eb5-5deb-4d85-b933-8635eb0f10f5",
   "metadata": {},
   "outputs": [],
   "source": [
    "import pandas as pd\n",
    "import numpy as np "
   ]
  },
  {
   "cell_type": "code",
   "execution_count": null,
   "id": "858ff8e2-521d-4427-a39d-42bf1ded9dd7",
   "metadata": {},
   "outputs": [],
   "source": [
    "diabetes = pd.read_csv(\"diabetes.csv\")\n",
    "diabetes"
   ]
  },
  {
   "cell_type": "code",
   "execution_count": null,
   "id": "94cbbb1c-b84d-4edf-96af-d9ab04be2607",
   "metadata": {},
   "outputs": [],
   "source": []
  }
 ],
 "metadata": {
  "kernelspec": {
   "display_name": "Python 3 (ipykernel)",
   "language": "python",
   "name": "python3"
  },
  "language_info": {
   "codemirror_mode": {
    "name": "ipython",
    "version": 3
   },
   "file_extension": ".py",
   "mimetype": "text/x-python",
   "name": "python",
   "nbconvert_exporter": "python",
   "pygments_lexer": "ipython3",
   "version": "3.11.5"
  }
 },
 "nbformat": 4,
 "nbformat_minor": 5
}
